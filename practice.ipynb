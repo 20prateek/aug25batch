{
 "cells": [
  {
   "cell_type": "code",
   "execution_count": 3,
   "id": "c5fb657c",
   "metadata": {},
   "outputs": [
    {
     "name": "stdout",
     "output_type": "stream",
     "text": [
      "prateek G\n",
      "G\n"
     ]
    }
   ],
   "source": [
    "x= 'prateek'\n",
    "y= 'G'\n",
    "print(x,y)\n",
    "print(y)"
   ]
  },
  {
   "cell_type": "code",
   "execution_count": 5,
   "id": "dd738ea0",
   "metadata": {},
   "outputs": [
    {
     "name": "stdout",
     "output_type": "stream",
     "text": [
      "prateek-Gundi\n"
     ]
    }
   ],
   "source": [
    "first_name= 'prateek'\n",
    "last_name= 'Gundi'\n",
    "print(first_name,end= '-')\n",
    "print(last_name)"
   ]
  },
  {
   "cell_type": "code",
   "execution_count": 38,
   "id": "e3ce44a3",
   "metadata": {},
   "outputs": [
    {
     "ename": "SyntaxError",
     "evalue": "EOL while scanning string literal (<ipython-input-38-a2da15e1c029>, line 4)",
     "output_type": "error",
     "traceback": [
      "\u001b[1;36m  File \u001b[1;32m\"<ipython-input-38-a2da15e1c029>\"\u001b[1;36m, line \u001b[1;32m4\u001b[0m\n\u001b[1;33m    print(\"i have 3 fruit,one is '+ fruit+' other one '+ Fruit1' other is '+ Fruit2+')\u001b[0m\n\u001b[1;37m                                                                                      ^\u001b[0m\n\u001b[1;31mSyntaxError\u001b[0m\u001b[1;31m:\u001b[0m EOL while scanning string literal\n"
     ]
    }
   ],
   "source": [
    "fruit= \"orange\"\n",
    "Fruit1= 'banana'\n",
    "Fruit2= 'guava'\n",
    "print(\"i have 3 fruit,one is '+ fruit+' other one '+ Fruit1' other is '+ Fruit2+')"
   ]
  },
  {
   "cell_type": "code",
   "execution_count": null,
   "id": "257d2c6c",
   "metadata": {},
   "outputs": [],
   "source": []
  },
  {
   "cell_type": "code",
   "execution_count": null,
   "id": "909cc83f",
   "metadata": {},
   "outputs": [],
   "source": []
  }
 ],
 "metadata": {
  "kernelspec": {
   "display_name": "Python 3",
   "language": "python",
   "name": "python3"
  },
  "language_info": {
   "codemirror_mode": {
    "name": "ipython",
    "version": 3
   },
   "file_extension": ".py",
   "mimetype": "text/x-python",
   "name": "python",
   "nbconvert_exporter": "python",
   "pygments_lexer": "ipython3",
   "version": "3.8.8"
  }
 },
 "nbformat": 4,
 "nbformat_minor": 5
}
