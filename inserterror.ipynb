{
 "cells": [
  {
   "cell_type": "code",
   "execution_count": 1,
   "id": "c5fb657c",
   "metadata": {},
   "outputs": [
    {
     "name": "stdout",
     "output_type": "stream",
     "text": [
      "prateek\n",
      "G\n"
     ]
    }
   ],
   "source": [
    "x= 'prateek'\n",
    "y= 'G'\n",
    "print(x)\n",
    "print(y)"
   ]
  },
  {
   "cell_type": "code",
   "execution_count": 2,
   "id": "dd738ea0",
   "metadata": {},
   "outputs": [
    {
     "name": "stdout",
     "output_type": "stream",
     "text": [
      "prateek-Gundi\n"
     ]
    }
   ],
   "source": [
    "first_name= 'prateek'\n",
    "last_name= 'Gundi'\n",
    "print(first_name,end= '-')\n",
    "print(last_name)"
   ]
  },
  {
   "cell_type": "code",
   "execution_count": 3,
   "id": "e3ce44a3",
   "metadata": {},
   "outputs": [
    {
     "name": "stdout",
     "output_type": "stream",
     "text": [
      "i have an orange\n"
     ]
    }
   ],
   "source": [
    "fruit= \"orange\"\n",
    "print(\"i have an \" + fruit)"
   ]
  },
  {
   "cell_type": "code",
   "execution_count": 5,
   "id": "257d2c6c",
   "metadata": {},
   "outputs": [
    {
     "name": "stdout",
     "output_type": "stream",
     "text": [
      "i have an orange , Banana  \n"
     ]
    }
   ],
   "source": [
    "fruit= \"orange\"\n",
    "fruit1= \" , Banana  \"\n",
    "print(\"i have an \" + fruit  + fruit1)"
   ]
  },
  {
   "cell_type": "code",
   "execution_count": 5,
   "id": "909cc83f",
   "metadata": {},
   "outputs": [
    {
     "name": "stdout",
     "output_type": "stream",
     "text": [
      "i have an 2 Fruit, one is orange other one is  Banana  \n"
     ]
    }
   ],
   "source": [
    "fruit= \"orange\"\n",
    "fruit1= \" Banana  \"\n",
    "print(\"i have an 2 Fruit, one is {} other one is {}\".format(fruit,fruit1))"
   ]
  },
  {
   "cell_type": "code",
   "execution_count": 2,
   "id": "78bc0c9c",
   "metadata": {},
   "outputs": [
    {
     "name": "stdout",
     "output_type": "stream",
     "text": [
      "Hello-world\n",
      "how are you today\n"
     ]
    }
   ],
   "source": [
    "print('Hello-world')\n",
    "print('how are you today')"
   ]
  },
  {
   "cell_type": "code",
   "execution_count": null,
   "id": "97ee0243",
   "metadata": {},
   "outputs": [],
   "source": []
  },
  {
   "cell_type": "code",
   "execution_count": 1,
   "id": "654b5b07",
   "metadata": {},
   "outputs": [
    {
     "name": "stdout",
     "output_type": "stream",
     "text": [
      "Enter your name : prateek\n",
      "hello prateek\n"
     ]
    }
   ],
   "source": [
    "name = input(\"Enter your name : \")\n",
    "print(\"hello \" + name)"
   ]
  },
  {
   "cell_type": "code",
   "execution_count": 9,
   "id": "72dfe035",
   "metadata": {},
   "outputs": [
    {
     "data": {
      "text/plain": [
       "int"
      ]
     },
     "execution_count": 9,
     "metadata": {},
     "output_type": "execute_result"
    }
   ],
   "source": [
    "type(1*2)"
   ]
  },
  {
   "cell_type": "code",
   "execution_count": 13,
   "id": "b60b84b4",
   "metadata": {},
   "outputs": [
    {
     "name": "stdout",
     "output_type": "stream",
     "text": [
      "<class 'str'>\n"
     ]
    }
   ],
   "source": [
    "x = 'true'\n",
    "print(type(x))"
   ]
  },
  {
   "cell_type": "code",
   "execution_count": 15,
   "id": "f8cc4896",
   "metadata": {},
   "outputs": [
    {
     "data": {
      "text/plain": [
       "str"
      ]
     },
     "execution_count": 15,
     "metadata": {},
     "output_type": "execute_result"
    }
   ],
   "source": [
    "type('b')"
   ]
  },
  {
   "cell_type": "code",
   "execution_count": 30,
   "id": "91c0b805",
   "metadata": {},
   "outputs": [
    {
     "name": "stdout",
     "output_type": "stream",
     "text": [
      "m\n",
      "n\n",
      "m\n",
      "e\n"
     ]
    }
   ],
   "source": [
    "a = \"my name is prateek\"\n",
    "print(a[0]) #indexing\n",
    "print(a[3])\n",
    "print(a[5])\n",
    "print(a[-2]) #reverse"
   ]
  },
  {
   "cell_type": "code",
   "execution_count": 2,
   "id": "851c6bc7",
   "metadata": {},
   "outputs": [
    {
     "data": {
      "text/plain": [
       "'Fandon'"
      ]
     },
     "execution_count": 2,
     "metadata": {},
     "output_type": "execute_result"
    }
   ],
   "source": [
    "name = 'Randon'\n",
    "'F' + name[1:]"
   ]
  },
  {
   "cell_type": "code",
   "execution_count": 18,
   "id": "f0cb8fde",
   "metadata": {},
   "outputs": [
    {
     "name": "stdout",
     "output_type": "stream",
     "text": [
      "H\n",
      "hello world\n",
      "True\n",
      "True\n"
     ]
    },
    {
     "data": {
      "text/plain": [
       "'hlowrd'"
      ]
     },
     "execution_count": 18,
     "metadata": {},
     "output_type": "execute_result"
    }
   ],
   "source": [
    "a = 'hello world'\n",
    "print(a[0].upper())\n",
    "print(a.lower())\n",
    "print(a.startswith('h'))\n",
    "print(a.endswith('d'))\n",
    "a[0:11:2]"
   ]
  },
  {
   "cell_type": "code",
   "execution_count": 1,
   "id": "96684ed3",
   "metadata": {},
   "outputs": [],
   "source": [
    "list1= [1,2,3,\"maths\",\"science\",\"geography\",True,False]"
   ]
  },
  {
   "cell_type": "code",
   "execution_count": 2,
   "id": "7c7503ae",
   "metadata": {},
   "outputs": [
    {
     "data": {
      "text/plain": [
       "[1, 2, 3, 'maths', 'science', 'geography', True, False]"
      ]
     },
     "execution_count": 2,
     "metadata": {},
     "output_type": "execute_result"
    }
   ],
   "source": [
    "list1"
   ]
  },
  {
   "cell_type": "code",
   "execution_count": 12,
   "id": "b2cc8e91",
   "metadata": {},
   "outputs": [
    {
     "name": "stdout",
     "output_type": "stream",
     "text": [
      "[1, 2, 3, 4, 4, 'maths', 'science', 'geography', True, False, 'social', 'socialhindi', 'social hindi', 'social', 'social', 'social', 'social']\n"
     ]
    }
   ],
   "source": [
    "list1.append(\"social\")\n",
    "print(list1)"
   ]
  },
  {
   "cell_type": "code",
   "execution_count": 25,
   "id": "73916d9e",
   "metadata": {},
   "outputs": [
    {
     "name": "stdout",
     "output_type": "stream",
     "text": [
      "[1, 2, 3, 4, 9, 10]\n"
     ]
    }
   ],
   "source": [
    "my_list = [1,2,3,4,10]\n",
    "my_list.insert(4,9)\n",
    "print(my_list)"
   ]
  },
  {
   "cell_type": "code",
   "execution_count": null,
   "id": "a3432545",
   "metadata": {},
   "outputs": [],
   "source": [
    "my_num = [0,1,2,3,4,5]"
   ]
  },
  {
   "cell_type": "code",
   "execution_count": null,
   "id": "460676b6",
   "metadata": {},
   "outputs": [],
   "source": []
  },
  {
   "cell_type": "code",
   "execution_count": 7,
   "id": "2eae93a1",
   "metadata": {},
   "outputs": [
    {
     "data": {
      "text/plain": [
       "[1, 2, 3, 4, 5, 6, 7, 8, True, False]"
      ]
     },
     "execution_count": 7,
     "metadata": {},
     "output_type": "execute_result"
    }
   ],
   "source": [
    "list1 = [1,2,3,4]\n",
    "list2 = [5,6,7,8]\n",
    "list3 = [True, False]\n",
    "\n",
    "list1.extend(list2)\n",
    "list1.extend(list3)\n",
    "list1"
   ]
  },
  {
   "cell_type": "code",
   "execution_count": 22,
   "id": "cbf490a8",
   "metadata": {},
   "outputs": [
    {
     "name": "stdout",
     "output_type": "stream",
     "text": [
      "[1, 2, 3, 4, 5]\n"
     ]
    }
   ],
   "source": [
    "list8 = [1,2,3,4,5]\n",
    "list8_copy = list8.copy()\n",
    "print(list8)\n",
    "list1_copy[0] = 0"
   ]
  },
  {
   "cell_type": "code",
   "execution_count": 41,
   "id": "65813224",
   "metadata": {},
   "outputs": [
    {
     "name": "stdout",
     "output_type": "stream",
     "text": [
      "None\n"
     ]
    },
    {
     "data": {
      "text/plain": [
       "[]"
      ]
     },
     "execution_count": 41,
     "metadata": {},
     "output_type": "execute_result"
    }
   ],
   "source": [
    "list5 = [1,2,3,4,5,6] #POP function\n",
    "rem = list5.clear()\n",
    "print(rem)\n",
    "list5"
   ]
  },
  {
   "cell_type": "code",
   "execution_count": 29,
   "id": "0707fd7d",
   "metadata": {},
   "outputs": [
    {
     "data": {
      "text/plain": [
       "4"
      ]
     },
     "execution_count": 29,
     "metadata": {},
     "output_type": "execute_result"
    }
   ],
   "source": [
    "my_list10 = [[1,2,3],[4,5,6],[7,8,9]]\n",
    "my_list10[0][0]\n",
    "my_list10[1][0]"
   ]
  },
  {
   "cell_type": "code",
   "execution_count": 80,
   "id": "96a31c38",
   "metadata": {},
   "outputs": [
    {
     "data": {
      "text/plain": [
       "[[30, 40, [50, 60], 80], 90, 100]"
      ]
     },
     "execution_count": 80,
     "metadata": {},
     "output_type": "execute_result"
    }
   ],
   "source": [
    "l1 = [10, 20, [30, 40, [50, 60], 80], 90, 100]\n",
    "l1[-3::]"
   ]
  },
  {
   "cell_type": "code",
   "execution_count": null,
   "id": "5416621b",
   "metadata": {},
   "outputs": [],
   "source": []
  }
 ],
 "metadata": {
  "kernelspec": {
   "display_name": "Python 3",
   "language": "python",
   "name": "python3"
  },
  "language_info": {
   "codemirror_mode": {
    "name": "ipython",
    "version": 3
   },
   "file_extension": ".py",
   "mimetype": "text/x-python",
   "name": "python",
   "nbconvert_exporter": "python",
   "pygments_lexer": "ipython3",
   "version": "3.8.8"
  }
 },
 "nbformat": 4,
 "nbformat_minor": 5
}
